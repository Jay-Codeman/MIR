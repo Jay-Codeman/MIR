{
 "cells": [
  {
   "cell_type": "markdown",
   "id": "31c55941",
   "metadata": {},
   "source": [
    "## Accuracy comparison of different models"
   ]
  },
  {
   "cell_type": "code",
   "execution_count": 17,
   "id": "e34337df",
   "metadata": {},
   "outputs": [],
   "source": [
    "# Usual Libraries\n",
    "import pandas as pd\n",
    "import numpy as np\n",
    "import seaborn as sns\n",
    "import matplotlib.pyplot as plt\n",
    "%matplotlib inline\n",
    "import sklearn\n",
    "\n",
    "# Librosa (the mother of audio files)\n",
    "import librosa\n",
    "import librosa.display\n",
    "import IPython.display as ipd\n",
    "\n",
    "from xgboost import XGBClassifier, XGBRFClassifier\n",
    "from sklearn.metrics import confusion_matrix, accuracy_score, roc_auc_score, roc_curve\n",
    "from sklearn import preprocessing\n",
    "from sklearn.model_selection import train_test_split\n",
    "from sklearn.feature_selection import RFE\n",
    "\n",
    "# 停止弹出警告信息\n",
    "import warnings\n",
    "warnings.filterwarnings('ignore')\n",
    "\n"
   ]
  },
  {
   "cell_type": "code",
   "execution_count": 18,
   "id": "83d83bad",
   "metadata": {},
   "outputs": [],
   "source": [
    "data = pd.read_csv('test.csv')\n",
    "data = data.iloc[0:, 1:] \n",
    "y = data['label'] # genre variable."
   ]
  },
  {
   "cell_type": "code",
   "execution_count": 19,
   "id": "f6c8f7fa",
   "metadata": {},
   "outputs": [],
   "source": [
    "X = data.loc[:, data.columns != 'label'] #select all columns but not the labels\n",
    "X = X.iloc[:,:42]\n",
    "X = X.loc[:, X.columns != 'length']\n",
    "X = X.loc[:, X.columns != 'tempo']\n",
    "X = X.loc[:, X.columns != 'perceptr_mean']\n",
    "X = X.loc[:, X.columns != 'perceptr_var']\n",
    "X = X.loc[:, X.columns != 'chroma_stft_mean']\n",
    "X = X.loc[:, X.columns != 'chroma_stft_var']\n",
    "X_train, X_test, y_train, y_test = train_test_split(X, y, test_size=0.3, random_state=42)"
   ]
  },
  {
   "cell_type": "code",
   "execution_count": 20,
   "id": "56f21235",
   "metadata": {},
   "outputs": [],
   "source": [
    "def model_assess(model, title = 'Defalut'):\n",
    "    model.fit(X_train, y_train)\n",
    "    preds = model.predict(X_test)\n",
    "    print('Accuracy', title, ':', round(accuracy_score(y_test, preds), 5), '\\n')"
   ]
  },
  {
   "cell_type": "markdown",
   "id": "92fa6591",
   "metadata": {},
   "source": [
    "### Test the accuracy of different classifier models"
   ]
  },
  {
   "cell_type": "markdown",
   "id": "c6f81bf0",
   "metadata": {},
   "source": [
    "#### 1. Naive Bayes"
   ]
  },
  {
   "cell_type": "code",
   "execution_count": 21,
   "id": "a9b8d1c5",
   "metadata": {},
   "outputs": [
    {
     "name": "stdout",
     "output_type": "stream",
     "text": [
      "Accuracy Naive Bayes : 0.6729 \n",
      "\n"
     ]
    }
   ],
   "source": [
    "# Naive Bayes\n",
    "from sklearn.naive_bayes import GaussianNB\n",
    "nb = GaussianNB()\n",
    "model_assess(nb, \"Naive Bayes\")"
   ]
  },
  {
   "cell_type": "markdown",
   "id": "14e6d152",
   "metadata": {},
   "source": [
    "#### 2. Stochastic Gradient Descent"
   ]
  },
  {
   "cell_type": "code",
   "execution_count": 22,
   "id": "0f055e0a",
   "metadata": {},
   "outputs": [
    {
     "name": "stdout",
     "output_type": "stream",
     "text": [
      "Accuracy Stochastic Gradient Descent : 0.40219 \n",
      "\n"
     ]
    }
   ],
   "source": [
    "# Stochastic Gradient Descent\n",
    "from sklearn.linear_model import SGDClassifier\n",
    "sgd = SGDClassifier(max_iter=5000, random_state=0)\n",
    "model_assess(sgd, \"Stochastic Gradient Descent\")"
   ]
  },
  {
   "cell_type": "markdown",
   "id": "1a8d4cb5",
   "metadata": {},
   "source": [
    "#### 3. KNN"
   ]
  },
  {
   "cell_type": "code",
   "execution_count": 23,
   "id": "80bfc115",
   "metadata": {},
   "outputs": [
    {
     "name": "stdout",
     "output_type": "stream",
     "text": [
      "Accuracy KNN : 0.64138 \n",
      "\n"
     ]
    }
   ],
   "source": [
    "# KNN\n",
    "from sklearn.neighbors import KNeighborsClassifier\n",
    "knn = KNeighborsClassifier(n_neighbors=19)\n",
    "model_assess(knn, \"KNN\")"
   ]
  },
  {
   "cell_type": "markdown",
   "id": "307925bf",
   "metadata": {},
   "source": [
    "#### 4. Decision Trees"
   ]
  },
  {
   "cell_type": "code",
   "execution_count": 24,
   "id": "44b32073",
   "metadata": {},
   "outputs": [
    {
     "name": "stdout",
     "output_type": "stream",
     "text": [
      "Accuracy Decission trees : 0.91734 \n",
      "\n"
     ]
    }
   ],
   "source": [
    "# Decission trees\n",
    "from sklearn.tree import DecisionTreeClassifier\n",
    "tree = DecisionTreeClassifier()\n",
    "model_assess(tree, \"Decission trees\")"
   ]
  },
  {
   "cell_type": "markdown",
   "id": "16b0994c",
   "metadata": {},
   "source": [
    "#### 5. SVM"
   ]
  },
  {
   "cell_type": "code",
   "execution_count": 25,
   "id": "2ebd8d0e",
   "metadata": {},
   "outputs": [
    {
     "name": "stdout",
     "output_type": "stream",
     "text": [
      "Accuracy Support Vector Machine : 0.56829 \n",
      "\n"
     ]
    }
   ],
   "source": [
    "# Support Vector Machine\n",
    "from sklearn.svm import SVC\n",
    "svm = SVC(decision_function_shape=\"ovo\")\n",
    "model_assess(svm, \"Support Vector Machine\")"
   ]
  },
  {
   "cell_type": "markdown",
   "id": "90a5e4d5",
   "metadata": {},
   "source": [
    "#### 6. Logistic Regression"
   ]
  },
  {
   "cell_type": "code",
   "execution_count": 26,
   "id": "83c91df9",
   "metadata": {},
   "outputs": [
    {
     "name": "stdout",
     "output_type": "stream",
     "text": [
      "Accuracy Logistic Regression : 0.53925 \n",
      "\n"
     ]
    }
   ],
   "source": [
    "# Logistic Regression\n",
    "from sklearn.linear_model import LogisticRegression\n",
    "lg = LogisticRegression(random_state=0, solver='lbfgs', multi_class='multinomial')\n",
    "model_assess(lg, \"Logistic Regression\")"
   ]
  },
  {
   "cell_type": "markdown",
   "id": "215cc937",
   "metadata": {},
   "source": [
    "#### 7. XGBoost"
   ]
  },
  {
   "cell_type": "code",
   "execution_count": 28,
   "id": "b53db32c",
   "metadata": {},
   "outputs": [
    {
     "name": "stdout",
     "output_type": "stream",
     "text": [
      "[17:31:01] WARNING: C:/Users/Administrator/workspace/xgboost-win64_release_1.5.1/src/learner.cc:1115: Starting in XGBoost 1.3.0, the default evaluation metric used with the objective 'multi:softprob' was changed from 'merror' to 'mlogloss'. Explicitly set eval_metric if you'd like to restore the old behavior.\n",
      "Accuracy Cross Gradient Booster : 0.97651 \n",
      "\n"
     ]
    }
   ],
   "source": [
    "# Cross Gradient Booster\n",
    "from xgboost import XGBClassifier\n",
    "xgb = XGBClassifier(n_estimators=150, learning_rate=0.05)\n",
    "model_assess(xgb, \"Cross Gradient Booster\")"
   ]
  }
 ],
 "metadata": {
  "kernelspec": {
   "display_name": "Python 3",
   "language": "python",
   "name": "python3"
  },
  "language_info": {
   "codemirror_mode": {
    "name": "ipython",
    "version": 3
   },
   "file_extension": ".py",
   "mimetype": "text/x-python",
   "name": "python",
   "nbconvert_exporter": "python",
   "pygments_lexer": "ipython3",
   "version": "3.6.8"
  }
 },
 "nbformat": 4,
 "nbformat_minor": 5
}
